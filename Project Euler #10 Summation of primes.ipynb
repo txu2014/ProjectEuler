{
 "cells": [
  {
   "cell_type": "code",
   "execution_count": null,
   "metadata": {
    "collapsed": true
   },
   "outputs": [],
   "source": [
    "# Enter your code here. Read input from STDIN. Print output to STDOUT\n",
    "import math\n",
    "from array import array\n",
    "primeList=[]\n",
    "primeList.append(0)\n",
    "\n",
    "def is_prime(x):\n",
    "    if x%2==0 and x!=2:\n",
    "        return False\n",
    "    for i in xrange(3,int(math.sqrt(x))+1,2):\n",
    "        if x%i==0:\n",
    "            return False\n",
    "    return True\n",
    "\n",
    "for i in xrange(1000002):\n",
    "    if is_prime(i):\n",
    "        primeList.append(primeList[-1]+i)\n",
    "    else:\n",
    "        primeList.append(primeList[-1])\n",
    "\n",
    "T = int(raw_input())\n",
    "for i in xrange(T):\n",
    "    N = int(raw_input())\n",
    "    print(primeList[N+1]-1)"
   ]
  }
 ],
 "metadata": {
  "kernelspec": {
   "display_name": "Python 2",
   "language": "python",
   "name": "python2"
  },
  "language_info": {
   "codemirror_mode": {
    "name": "ipython",
    "version": 2
   },
   "file_extension": ".py",
   "mimetype": "text/x-python",
   "name": "python",
   "nbconvert_exporter": "python",
   "pygments_lexer": "ipython2",
   "version": "2.7.10"
  }
 },
 "nbformat": 4,
 "nbformat_minor": 0
}
