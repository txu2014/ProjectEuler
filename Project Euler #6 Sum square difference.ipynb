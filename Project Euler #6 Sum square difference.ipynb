{
 "cells": [
  {
   "cell_type": "code",
   "execution_count": null,
   "metadata": {
    "collapsed": true
   },
   "outputs": [],
   "source": [
    "# Enter your code here. Read input from STDIN. Print output to STDOUT\n",
    "squareDict = {'max':1, '1':1}\n",
    "def add_square(n,squareDict):\n",
    "    max = squareDict['max']\n",
    "    if n > max:\n",
    "        for i in xrange(max+1,n+1):\n",
    "            squareDict[str(i)]=i **2 + squareDict[str(i-1)]\n",
    "        squareDict['max'] = n\n",
    "    return(squareDict)\n",
    "\n",
    "def sum_square_diff(n,squareDict):\n",
    "    max = squareDict['max']\n",
    "    if n>max:\n",
    "        squareDict = add_square(n,squareDict)   \n",
    "    squareSum = squareDict[str(n)]\n",
    "    sumSquare = (n*(n+1)/2)**2\n",
    "    return (sumSquare - squareSum)\n",
    "\n",
    "t = int(raw_input())\n",
    "for i in xrange(t):\n",
    "    N = int(raw_input())\n",
    "    print(sum_square_diff(N,squareDict))"
   ]
  }
 ],
 "metadata": {
  "kernelspec": {
   "display_name": "Python 2",
   "language": "python",
   "name": "python2"
  },
  "language_info": {
   "codemirror_mode": {
    "name": "ipython",
    "version": 2
   },
   "file_extension": ".py",
   "mimetype": "text/x-python",
   "name": "python",
   "nbconvert_exporter": "python",
   "pygments_lexer": "ipython2",
   "version": "2.7.10"
  }
 },
 "nbformat": 4,
 "nbformat_minor": 0
}
