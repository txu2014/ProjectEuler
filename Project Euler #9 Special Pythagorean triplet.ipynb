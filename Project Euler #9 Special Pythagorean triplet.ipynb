{
 "cells": [
  {
   "cell_type": "code",
   "execution_count": null,
   "metadata": {
    "collapsed": true
   },
   "outputs": [],
   "source": [
    "# Enter your code here. Read input from STDIN. Print output to STDOUT\n",
    "import math\n",
    "def product_pathagorean(n):\n",
    "    max_product = -1\n",
    "    if n<12 or n%2!=0:\n",
    "        return(-1)\n",
    "    for a in xrange(2,int(n/3)+1):\n",
    "        if  (0.5*n*(n-2*a))%(n-a) ==0:\n",
    "            b =int((0.5*n*(n-2*a))/(n-a))\n",
    "            c = n-a-b\n",
    "            max_product = max(max_product,a*b*c)\n",
    "    return max_product \n",
    "\n",
    "T = int(raw_input())\n",
    "for i in xrange(T):\n",
    "    N = int(raw_input())\n",
    "    print(product_pathagorean(N))"
   ]
  }
 ],
 "metadata": {
  "kernelspec": {
   "display_name": "Python 2",
   "language": "python",
   "name": "python2"
  },
  "language_info": {
   "codemirror_mode": {
    "name": "ipython",
    "version": 2
   },
   "file_extension": ".py",
   "mimetype": "text/x-python",
   "name": "python",
   "nbconvert_exporter": "python",
   "pygments_lexer": "ipython2",
   "version": "2.7.10"
  }
 },
 "nbformat": 4,
 "nbformat_minor": 0
}
