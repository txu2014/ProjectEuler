{
 "cells": [
  {
   "cell_type": "code",
   "execution_count": 4,
   "metadata": {
    "collapsed": false
   },
   "outputs": [
    {
     "data": {
      "text/plain": [
       "[2, 3]"
      ]
     },
     "execution_count": 4,
     "metadata": {},
     "output_type": "execute_result"
    }
   ],
   "source": [
    "#Version 1 \n",
    "# Enter your code here. Read input from STDIN. Print output to STDOUT\n",
    "import math\n",
    "def max_prime_factor(n):\n",
    "    max_prime_factor=1\n",
    "    while n%2 ==0:\n",
    "        n=n/2\n",
    "        max_prime_factor=2\n",
    "    while n%3 ==0:\n",
    "        n=n/3\n",
    "        max_prime_factor=3\n",
    "    i = int(math.sqrt(n))\n",
    "    while i<=n:\n",
    "        if n%i==0 and is_prime(i):\n",
    "            max_prime_factor=i\n",
    "        i += 2\n",
    "    return max_prime_factor\n",
    "def is_prime(n):\n",
    "    if n%2 ==0 and n!=2:\n",
    "        return False\n",
    "    for i in xrange(3, int(math.sqrt(n))+1,2):\n",
    "        if n%i ==0 and n!=i:\n",
    "            return False\n",
    "    return True\n",
    "t = int(raw_input())\n",
    "while t>0:\n",
    "    N = int(raw_input())\n",
    "    print(max_prime_factor(N))\n",
    "    t -= 1"
   ]
  },
  {
   "cell_type": "code",
   "execution_count": null,
   "metadata": {
    "collapsed": true
   },
   "outputs": [],
   "source": [
    "#version 2\n",
    "# Enter your code here. Read input from STDIN. Print output to STDOUT\n",
    "import math\n",
    "def max_prime_factor(n):\n",
    "    max_prime_factor=1\n",
    "    while n%2 ==0:\n",
    "        n=n/2\n",
    "        max_prime_factor=2\n",
    "    while n%3 ==0:\n",
    "        n=n/3\n",
    "        max_prime_factor=3\n",
    "    i=1\n",
    "    while i*i<=n:\n",
    "        if n%i==0:\n",
    "            n = n/i\n",
    "            if is_prime(i) and i>max_prime_factor:\n",
    "                max_prime_factor = i\n",
    "            if is_prime(n) and n >max_prime_factor:\n",
    "                max_prime_factor = n\n",
    "        i += 2\n",
    "    return max_prime_factor\n",
    "def is_prime(n):\n",
    "    if n%2 ==0 and n!=2:\n",
    "        return False\n",
    "    for i in xrange(3, int(math.sqrt(n))+1,2):\n",
    "        if n%i ==0 and n!=i:\n",
    "            return False\n",
    "    return True\n",
    "t = int(raw_input())\n",
    "while t>0:\n",
    "    N = int(raw_input())\n",
    "    if 10<=N<=10e12:\n",
    "        print(max_prime_factor(N))\n",
    "    t -= 1"
   ]
  },
  {
   "cell_type": "code",
   "execution_count": 1,
   "metadata": {
    "collapsed": true
   },
   "outputs": [],
   "source": [
    "import math\n",
    "def max_prime_factor(n):\n",
    "    max_prime_factor=1\n",
    "    while n%2 ==0:\n",
    "        n=n/2\n",
    "        max_prime_factor=2\n",
    "    while n%3 ==0:\n",
    "        n=n/3\n",
    "        max_prime_factor=3\n",
    "    i=1\n",
    "    while i*i<=n:\n",
    "        if n%i==0:\n",
    "            n = n/i\n",
    "            if is_prime(i) and i>max_prime_factor:\n",
    "                max_prime_factor = i\n",
    "            if is_prime(n) and n >max_prime_factor:\n",
    "                max_prime_factor = n\n",
    "        i += 2\n",
    "    return max_prime_factor\n",
    "def is_prime(n):\n",
    "    if n%2 ==0 and n!=2:\n",
    "        return False\n",
    "    for i in xrange(3, int(math.sqrt(n))+1,2):\n",
    "        if n%i ==0 and n!=i:\n",
    "            return False\n",
    "    return True"
   ]
  },
  {
   "cell_type": "code",
   "execution_count": 13,
   "metadata": {
    "collapsed": false
   },
   "outputs": [
    {
     "name": "stdout",
     "output_type": "stream",
     "text": [
      "1\n",
      "2\n",
      "3\n",
      "5\n",
      "7\n",
      "11\n",
      "13\n",
      "17\n",
      "19\n"
     ]
    }
   ],
   "source": [
    "for i in xrange(20):\n",
    "    if is_prime(i):\n",
    "        print i"
   ]
  },
  {
   "cell_type": "code",
   "execution_count": 16,
   "metadata": {
    "collapsed": false
   },
   "outputs": [
    {
     "data": {
      "text/plain": [
       "991"
      ]
     },
     "execution_count": 16,
     "metadata": {},
     "output_type": "execute_result"
    }
   ],
   "source": [
    "max_prime_factor(991)"
   ]
  },
  {
   "cell_type": "code",
   "execution_count": null,
   "metadata": {
    "collapsed": true
   },
   "outputs": [],
   "source": []
  }
 ],
 "metadata": {
  "kernelspec": {
   "display_name": "Python 2",
   "language": "python",
   "name": "python2"
  },
  "language_info": {
   "codemirror_mode": {
    "name": "ipython",
    "version": 2
   },
   "file_extension": ".py",
   "mimetype": "text/x-python",
   "name": "python",
   "nbconvert_exporter": "python",
   "pygments_lexer": "ipython2",
   "version": "2.7.10"
  }
 },
 "nbformat": 4,
 "nbformat_minor": 0
}
