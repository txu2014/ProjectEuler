{
 "cells": [
  {
   "cell_type": "code",
   "execution_count": null,
   "metadata": {
    "collapsed": false
   },
   "outputs": [
    {
     "name": "stdout",
     "output_type": "stream",
     "text": [
      "1\n"
     ]
    }
   ],
   "source": [
    "#Version 1 - 40\n",
    "# Enter your code here. Read input from STDIN. Print output to STDOUT\n",
    "def euler002(N):\n",
    "    sum=0\n",
    "    i=0\n",
    "    while fab(i)<N:\n",
    "        if fab(i)%2==0:\n",
    "            sum+=fab(i)\n",
    "        i+=1\n",
    "    return sum\n",
    "\n",
    "def fab(i):\n",
    "    if i==0:\n",
    "        return 1\n",
    "    elif i==1:\n",
    "        return 2\n",
    "    else:\n",
    "        return fab(i-1)+fab(i-2)\n",
    "            \n",
    "t = int(raw_input())\n",
    "while t>0:\n",
    "    N = int(raw_input())\n",
    "    print(euler002(N))\n",
    "    t -= 1"
   ]
  },
  {
   "cell_type": "code",
   "execution_count": null,
   "metadata": {
    "collapsed": true
   },
   "outputs": [],
   "source": [
    "#Version 2 -100\n",
    "# Enter your code here. Read input from STDIN. Print output to STDOUT\n",
    "def euler002(N):\n",
    "    sum=0\n",
    "    i=0\n",
    "    fab=0\n",
    "    fab_1=1\n",
    "    fab_2=1\n",
    "    while fab_1+fab_2<N:\n",
    "        fab = fab_1+fab_2\n",
    "        fab_2 = fab_1\n",
    "        fab_1 = fab\n",
    "        #print(fab)\n",
    "        if fab%2==0:\n",
    "            sum+=fab\n",
    "    return sum\n",
    "\n",
    "def fab(i):\n",
    "    if i==0:\n",
    "        return 1\n",
    "    elif i==1:\n",
    "        return 2\n",
    "    else:\n",
    "        return fab(i-1)+fab(i-2)\n",
    "            \n",
    "t = int(raw_input())\n",
    "while t>0:\n",
    "    N = int(raw_input())\n",
    "    print(euler002(N))\n",
    "    t -= 1"
   ]
  },
  {
   "cell_type": "code",
   "execution_count": null,
   "metadata": {
    "collapsed": true
   },
   "outputs": [],
   "source": [
    "#sample answer\n",
    "#Simple fibonacci generator\n",
    "def fibo_gen(maxi=4 * 10**16):\n",
    "    a,b=0,1\n",
    "    while(a<maxi):\n",
    "        yield a\n",
    "        a,b=b,a+b\n",
    "sig=0\n",
    "fib = []\n",
    "for i in fibo_gen():\n",
    "    if i%2==0:\n",
    "        fib.append(i)\n",
    "t = int(raw_input())\n",
    "for i in range(t):\n",
    "    n = int(raw_input())\n",
    "    t1 = filter(lambda x:x<=n,fib)  \n",
    "    print sum(t1)"
   ]
  },
  {
   "cell_type": "code",
   "execution_count": 1,
   "metadata": {
    "collapsed": false
   },
   "outputs": [
    {
     "name": "stdout",
     "output_type": "stream",
     "text": [
      "1\n",
      "2\n",
      "3\n",
      "5\n",
      "8\n",
      "13\n",
      "21\n",
      "34\n",
      "55\n",
      "89\n"
     ]
    }
   ],
   "source": [
    "def fab(i):\n",
    "    if i==0:\n",
    "        return 1\n",
    "    elif i==1:\n",
    "        return 2\n",
    "    else:\n",
    "        return fab(i-1)+fab(i-2)\n",
    "    \n",
    "for i in range(10):\n",
    "    print(fab(i))"
   ]
  },
  {
   "cell_type": "code",
   "execution_count": 5,
   "metadata": {
    "collapsed": false
   },
   "outputs": [
    {
     "name": "stdout",
     "output_type": "stream",
     "text": [
      "(1, 2)\n",
      "(4, 8)\n",
      "(7, 34)\n",
      "(10, 144)\n",
      "(13, 610)\n",
      "(16, 2584)\n",
      "(19, 10946)\n",
      "(22, 46368)\n",
      "(25, 196418)\n",
      "(28, 832040)\n"
     ]
    }
   ],
   "source": [
    "for i in range(30):\n",
    "    if fab(i)%2==0:\n",
    "        print (i, fab(i))"
   ]
  },
  {
   "cell_type": "code",
   "execution_count": 4,
   "metadata": {
    "collapsed": false
   },
   "outputs": [
    {
     "name": "stdout",
     "output_type": "stream",
     "text": [
      "2\n",
      "3\n",
      "5\n",
      "8\n",
      "13\n",
      "21\n",
      "34\n",
      "55\n",
      "89\n",
      "144\n"
     ]
    },
    {
     "data": {
      "text/plain": [
       "188"
      ]
     },
     "execution_count": 4,
     "metadata": {},
     "output_type": "execute_result"
    }
   ],
   "source": [
    "def euler002(N):\n",
    "    sum=0\n",
    "    i=0\n",
    "    fab=0\n",
    "    fab_1=1\n",
    "    fab_2=1\n",
    "    while fab<N:\n",
    "        fab = fab_1+fab_2\n",
    "        fab_2 = fab_1\n",
    "        fab_1 = fab\n",
    "        \n",
    "        print(fab)\n",
    "        if fab%2==0:\n",
    "            sum+=fab\n",
    "    return sum\n",
    "\n",
    "euler002(100)"
   ]
  },
  {
   "cell_type": "code",
   "execution_count": null,
   "metadata": {
    "collapsed": true
   },
   "outputs": [],
   "source": []
  }
 ],
 "metadata": {
  "kernelspec": {
   "display_name": "Python 2",
   "language": "python",
   "name": "python2"
  },
  "language_info": {
   "codemirror_mode": {
    "name": "ipython",
    "version": 2
   },
   "file_extension": ".py",
   "mimetype": "text/x-python",
   "name": "python",
   "nbconvert_exporter": "python",
   "pygments_lexer": "ipython2",
   "version": "2.7.10"
  }
 },
 "nbformat": 4,
 "nbformat_minor": 0
}
