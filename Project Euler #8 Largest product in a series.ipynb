{
 "cells": [
  {
   "cell_type": "code",
   "execution_count": null,
   "metadata": {
    "collapsed": true
   },
   "outputs": [],
   "source": [
    "# Enter your code here. Read input from STDIN. Print output to STDOUT\n",
    "import operator\n",
    "def product(iterable):\n",
    "    return reduce(operator.mul, iterable, 1)\n",
    "def max_product(M,K):\n",
    "    Mlist = [int(i) for i in M]\n",
    "    max_product= 0\n",
    "    for i in xrange(len(Mlist) - K):\n",
    "        if product(Mlist[i:i+K]) >max_product:\n",
    "            max_product=product(Mlist[i:i+K]) \n",
    "    return max_product\n",
    "\n",
    "t = int(raw_input())\n",
    "for i in xrange(t):\n",
    "    N,K = raw_input().split(' ')\n",
    "    M = raw_input()\n",
    "    print(max_product(M,int(K)))\n",
    "        "
   ]
  }
 ],
 "metadata": {
  "kernelspec": {
   "display_name": "Python 2",
   "language": "python",
   "name": "python2"
  },
  "language_info": {
   "codemirror_mode": {
    "name": "ipython",
    "version": 2
   },
   "file_extension": ".py",
   "mimetype": "text/x-python",
   "name": "python",
   "nbconvert_exporter": "python",
   "pygments_lexer": "ipython2",
   "version": "2.7.10"
  }
 },
 "nbformat": 4,
 "nbformat_minor": 0
}
