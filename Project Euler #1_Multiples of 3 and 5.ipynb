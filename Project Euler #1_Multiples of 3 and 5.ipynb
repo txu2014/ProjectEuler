{
 "cells": [
  {
   "cell_type": "code",
   "execution_count": null,
   "metadata": {
    "collapsed": true
   },
   "outputs": [],
   "source": [
    "#Project Euler #1: Multiples of 3 and 5\n",
    "# Enter your code here. Read input from STDIN. Print output to STDOUT\n",
    "\n",
    "def sum_digits3(n):\n",
    "    r = 0\n",
    "    while n:\n",
    "        r, n = r + n % 10, n // 10\n",
    "    return r\n",
    "\n",
    "T = int(input())\n",
    "for i in range(T):\n",
    "    N = int(input())\n",
    "    sum=0\n",
    "    if 1<=T<=10e5 and 1<=N<=10e9:\n",
    "        for m in range(1,N):\n",
    "            if sum_digits3(m)//3==0 or str(k)[-1]==5 or str(k)[-1]==0 :\n",
    "                sum = sum + m\n",
    "        print(sum)"
   ]
  },
  {
   "cell_type": "code",
   "execution_count": 16,
   "metadata": {
    "collapsed": false
   },
   "outputs": [
    {
     "data": {
      "text/plain": [
       "0"
      ]
     },
     "execution_count": 16,
     "metadata": {},
     "output_type": "execute_result"
    }
   ],
   "source": [
    "m=123\n",
    "sum(int(i) for i in str(m))%3"
   ]
  },
  {
   "cell_type": "code",
   "execution_count": 18,
   "metadata": {
    "collapsed": false
   },
   "outputs": [
    {
     "name": "stdout",
     "output_type": "stream",
     "text": [
      "True\n"
     ]
    }
   ],
   "source": [
    "if sum(int(i) for i in str(m))%3==0 or str(m)[-1]==5 or str(m)[-1]==0 :\n",
    "    print True\n",
    "    "
   ]
  },
  {
   "cell_type": "code",
   "execution_count": null,
   "metadata": {
    "collapsed": true
   },
   "outputs": [],
   "source": []
  }
 ],
 "metadata": {
  "kernelspec": {
   "display_name": "Python 2",
   "language": "python",
   "name": "python2"
  },
  "language_info": {
   "codemirror_mode": {
    "name": "ipython",
    "version": 2
   },
   "file_extension": ".py",
   "mimetype": "text/x-python",
   "name": "python",
   "nbconvert_exporter": "python",
   "pygments_lexer": "ipython2",
   "version": "2.7.10"
  }
 },
 "nbformat": 4,
 "nbformat_minor": 0
}
