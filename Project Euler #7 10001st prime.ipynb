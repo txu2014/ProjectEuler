{
 "cells": [
  {
   "cell_type": "code",
   "execution_count": null,
   "metadata": {
    "collapsed": true
   },
   "outputs": [],
   "source": [
    "# Enter your code here. Read input from STDIN. Print output to STDOUT\n",
    "import math\n",
    "primeList=[2]\n",
    "\n",
    "def add_prime(primeList):\n",
    "    i = primeList[-1]+1\n",
    "    while not is_prime(i):\n",
    "        i += 1\n",
    "    primeList.append(i)\n",
    "    return primeList\n",
    "def is_prime(x):\n",
    "    if x%2==0 and x!=2:\n",
    "        return False\n",
    "    for i in range(3,int(math.sqrt(x))+1):\n",
    "        if x%i ==0:\n",
    "            return False\n",
    "    return True\n",
    "\n",
    "def nth_prime(n,primeList):\n",
    "    for i in xrange(n-len(primeList)):\n",
    "        primeList = add_prime(primeList)\n",
    "    return primeList[n-1]\n",
    "\n",
    "t = int(raw_input())\n",
    "for i in xrange(t):\n",
    "    N = int(raw_input())\n",
    "    print(nth_prime(N,primeList))"
   ]
  }
 ],
 "metadata": {
  "kernelspec": {
   "display_name": "Python 2",
   "language": "python",
   "name": "python2"
  },
  "language_info": {
   "codemirror_mode": {
    "name": "ipython",
    "version": 2
   },
   "file_extension": ".py",
   "mimetype": "text/x-python",
   "name": "python",
   "nbconvert_exporter": "python",
   "pygments_lexer": "ipython2",
   "version": "2.7.10"
  }
 },
 "nbformat": 4,
 "nbformat_minor": 0
}
