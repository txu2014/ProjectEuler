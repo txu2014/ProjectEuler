{
 "cells": [
  {
   "cell_type": "code",
   "execution_count": null,
   "metadata": {
    "collapsed": true
   },
   "outputs": [],
   "source": [
    "# Enter your code here. Read input from STDIN. Print output to STDOUT\n",
    "import copy\n",
    "primeList = [2, 3, 5, 7, 11, 13, 17, 19, 23, 29, 31]\n",
    "primeTuple = [(i,0) for i in primeList]\n",
    "primeDict = {str(i):0 for i in primeList}\n",
    "initialDict = {str(i):0 for i in primeList}\n",
    "def getNewPrimeDict(n, primeList):\n",
    "    tempDict = copy.copy(initialDict)\n",
    "    for i in primeList:\n",
    "        while n%i==0:\n",
    "            n = n/i\n",
    "            tempDict[str(i)] = tempDict[str(i)]+1\n",
    "    return tempDict\n",
    "\n",
    "def min_multiplier(n):\n",
    "    m=1\n",
    "    for i in xrange(2,n+1):\n",
    "        tempDict = getNewPrimeDict(i, primeList)\n",
    "        for kvp in tempDict.iteritems():\n",
    "            if primeDict[str(kvp[0])] < kvp[1]:\n",
    "                primeDict[str(kvp[0])]=kvp[1]\n",
    "    for kvp in primeDict.iteritems():\n",
    "        m = m * int(kvp[0]) ** int(kvp[1])\n",
    "    return m\n",
    "t = int(raw_input())\n",
    "for i in xrange(t):\n",
    "    N = int(raw_input())\n",
    "    primeDict = {str(i):0 for i in primeList}\n",
    "    print(min_multiplier(N))"
   ]
  }
 ],
 "metadata": {
  "kernelspec": {
   "display_name": "Python 2",
   "language": "python",
   "name": "python2"
  },
  "language_info": {
   "codemirror_mode": {
    "name": "ipython",
    "version": 2
   },
   "file_extension": ".py",
   "mimetype": "text/x-python",
   "name": "python",
   "nbconvert_exporter": "python",
   "pygments_lexer": "ipython2",
   "version": "2.7.10"
  }
 },
 "nbformat": 4,
 "nbformat_minor": 0
}
